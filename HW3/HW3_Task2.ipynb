{
  "nbformat": 4,
  "nbformat_minor": 0,
  "metadata": {
    "colab": {
      "provenance": [],
      "authorship_tag": "ABX9TyNFSvlKnBHvk7/i0hyuJ+sj",
      "include_colab_link": true
    },
    "kernelspec": {
      "name": "python3",
      "display_name": "Python 3"
    },
    "language_info": {
      "name": "python"
    }
  },
  "cells": [
    {
      "cell_type": "markdown",
      "metadata": {
        "id": "view-in-github",
        "colab_type": "text"
      },
      "source": [
        "<a href=\"https://colab.research.google.com/github/Viknesh-Rajaramon/Data-Mining/blob/master/HW3/HW3_Task2.ipynb\" target=\"_parent\"><img src=\"https://colab.research.google.com/assets/colab-badge.svg\" alt=\"Open In Colab\"/></a>"
      ]
    },
    {
      "cell_type": "code",
      "source": [
        "%pip install scikit-surprise"
      ],
      "metadata": {
        "colab": {
          "base_uri": "https://localhost:8080/"
        },
        "id": "drB5RMTpp0tu",
        "outputId": "18fef468-f0c0-4eb7-c89a-68ed3d17f926"
      },
      "execution_count": 1,
      "outputs": [
        {
          "output_type": "stream",
          "name": "stdout",
          "text": [
            "Collecting scikit-surprise\n",
            "  Downloading scikit-surprise-1.1.3.tar.gz (771 kB)\n",
            "\u001b[2K     \u001b[90m━━━━━━━━━━━━━━━━━━━━━━━━━━━━━━━━━━━━━━━━\u001b[0m \u001b[32m772.0/772.0 kB\u001b[0m \u001b[31m6.6 MB/s\u001b[0m eta \u001b[36m0:00:00\u001b[0m\n",
            "\u001b[?25h  Preparing metadata (setup.py) ... \u001b[?25l\u001b[?25hdone\n",
            "Requirement already satisfied: joblib>=1.0.0 in /usr/local/lib/python3.10/dist-packages (from scikit-surprise) (1.3.2)\n",
            "Requirement already satisfied: numpy>=1.17.3 in /usr/local/lib/python3.10/dist-packages (from scikit-surprise) (1.25.2)\n",
            "Requirement already satisfied: scipy>=1.3.2 in /usr/local/lib/python3.10/dist-packages (from scikit-surprise) (1.11.4)\n",
            "Building wheels for collected packages: scikit-surprise\n",
            "  Building wheel for scikit-surprise (setup.py) ... \u001b[?25l\u001b[?25hdone\n",
            "  Created wheel for scikit-surprise: filename=scikit_surprise-1.1.3-cp310-cp310-linux_x86_64.whl size=3162728 sha256=9a09346fca70548a4d86796a8f26d60a7d9ad9004915aa7cce353ab9380581af\n",
            "  Stored in directory: /root/.cache/pip/wheels/a5/ca/a8/4e28def53797fdc4363ca4af740db15a9c2f1595ebc51fb445\n",
            "Successfully built scikit-surprise\n",
            "Installing collected packages: scikit-surprise\n",
            "Successfully installed scikit-surprise-1.1.3\n"
          ]
        }
      ]
    },
    {
      "cell_type": "code",
      "execution_count": 2,
      "metadata": {
        "id": "brQ_emsVpvnA"
      },
      "outputs": [],
      "source": [
        "from surprise import Dataset, Reader, SVD, KNNBasic\n",
        "from surprise.model_selection import cross_validate, train_test_split\n",
        "\n",
        "import pandas as pd\n",
        "import os\n",
        "import matplotlib.pyplot as plt\n",
        "\n",
        "%matplotlib inline"
      ]
    },
    {
      "cell_type": "markdown",
      "source": [
        "#### a) Read data from “ratings small.csv” with line format: 'userID movieID rating timestamp'."
      ],
      "metadata": {
        "id": "GuTO_sD7PwmD"
      }
    },
    {
      "cell_type": "code",
      "source": [
        "# Load data from CSV file\n",
        "file_path = \"/content/drive/MyDrive/CSE572/ratings_small.csv\"  # Replace with the actual path to your file\n",
        "\n",
        "# Create a Surprise Reader to parse the ratings\n",
        "reader = Reader(line_format = \"user item rating timestamp\", sep = \",\", skip_lines = 1)\n",
        "\n",
        "# Load the dataset with the reader\n",
        "data = Dataset.load_from_file(file_path, reader)"
      ],
      "metadata": {
        "id": "nbgx1h9op3Jf"
      },
      "execution_count": 4,
      "outputs": []
    },
    {
      "cell_type": "code",
      "source": [
        "# Split the dataset into training and testing sets\n",
        "trainset, testset = train_test_split(data, test_size = 0.20)"
      ],
      "metadata": {
        "id": "A-YkWtyop3L2"
      },
      "execution_count": 5,
      "outputs": []
    },
    {
      "cell_type": "markdown",
      "source": [
        "#### c) Compute the average MAE and RMSE of the Probabilistic Matrix Factorization (PMF), User based Collaborative Filtering, Item based Collaborative Filtering, under the 5-folds cross-validation"
      ],
      "metadata": {
        "id": "S9BWVzuBP0_s"
      }
    },
    {
      "cell_type": "markdown",
      "source": [
        "##### Probabilistic Matrix Factorization (PMF)"
      ],
      "metadata": {
        "id": "NMC9-2LyP4Ud"
      }
    },
    {
      "cell_type": "code",
      "source": [
        "svd_model = SVD()\n",
        "pmf_results = cross_validate(svd_model, data, measures = [\"MAE\", \"RMSE\"], cv = 5, verbose = True)\n",
        "\n",
        "# Train the model on the entire dataset\n",
        "svd_model.fit(trainset)"
      ],
      "metadata": {
        "id": "sQE-2SeEp3OA",
        "colab": {
          "base_uri": "https://localhost:8080/"
        },
        "outputId": "0ec4d561-b7b2-4fd3-b1fe-13382e0ef33e"
      },
      "execution_count": 6,
      "outputs": [
        {
          "output_type": "stream",
          "name": "stdout",
          "text": [
            "Evaluating MAE, RMSE of algorithm SVD on 5 split(s).\n",
            "\n",
            "                  Fold 1  Fold 2  Fold 3  Fold 4  Fold 5  Mean    Std     \n",
            "MAE (testset)     0.6856  0.6961  0.6868  0.6860  0.6921  0.6893  0.0041  \n",
            "RMSE (testset)    0.8922  0.9036  0.8902  0.8930  0.8981  0.8954  0.0049  \n",
            "Fit time          1.32    1.35    1.34    1.36    1.36    1.35    0.01    \n",
            "Test time         0.27    0.14    0.12    0.26    0.12    0.18    0.07    \n"
          ]
        },
        {
          "output_type": "execute_result",
          "data": {
            "text/plain": [
              "<surprise.prediction_algorithms.matrix_factorization.SVD at 0x7a40d4ac7a90>"
            ]
          },
          "metadata": {},
          "execution_count": 6
        }
      ]
    },
    {
      "cell_type": "markdown",
      "source": [
        "##### User based Collaborative Filtering"
      ],
      "metadata": {
        "id": "QxlTzCv1QCrT"
      }
    },
    {
      "cell_type": "code",
      "source": [
        "knn_user_model = KNNBasic(sim_options = {\"user_based\": True})\n",
        "user_results = cross_validate(knn_user_model, data, measures = [\"MAE\", \"RMSE\"], cv = 5, verbose = True)\n",
        "\n",
        "# Train the user-based model on the entire dataset\n",
        "knn_user_model.fit(trainset)"
      ],
      "metadata": {
        "id": "3WLdFoSep3QX",
        "colab": {
          "base_uri": "https://localhost:8080/"
        },
        "outputId": "81b4a5ed-fc98-451c-b3fb-b5f7000420b3"
      },
      "execution_count": 7,
      "outputs": [
        {
          "output_type": "stream",
          "name": "stdout",
          "text": [
            "Computing the msd similarity matrix...\n",
            "Done computing similarity matrix.\n",
            "Computing the msd similarity matrix...\n",
            "Done computing similarity matrix.\n",
            "Computing the msd similarity matrix...\n",
            "Done computing similarity matrix.\n",
            "Computing the msd similarity matrix...\n",
            "Done computing similarity matrix.\n",
            "Computing the msd similarity matrix...\n",
            "Done computing similarity matrix.\n",
            "Evaluating MAE, RMSE of algorithm KNNBasic on 5 split(s).\n",
            "\n",
            "                  Fold 1  Fold 2  Fold 3  Fold 4  Fold 5  Mean    Std     \n",
            "MAE (testset)     0.7481  0.7447  0.7440  0.7464  0.7355  0.7437  0.0043  \n",
            "RMSE (testset)    0.9719  0.9700  0.9653  0.9720  0.9557  0.9670  0.0062  \n",
            "Fit time          0.12    0.16    0.16    0.16    0.23    0.16    0.04    \n",
            "Test time         1.58    1.42    2.05    1.56    3.01    1.92    0.58    \n",
            "Computing the msd similarity matrix...\n",
            "Done computing similarity matrix.\n"
          ]
        },
        {
          "output_type": "execute_result",
          "data": {
            "text/plain": [
              "<surprise.prediction_algorithms.knns.KNNBasic at 0x7a40d4e4c340>"
            ]
          },
          "metadata": {},
          "execution_count": 7
        }
      ]
    },
    {
      "cell_type": "markdown",
      "source": [
        "##### Item based Collaborative Filtering"
      ],
      "metadata": {
        "id": "5elXp58UQHFH"
      }
    },
    {
      "cell_type": "code",
      "source": [
        "knn_item_model = KNNBasic(sim_options = {\"user_based\": False})\n",
        "item_results = cross_validate(knn_item_model, data, measures = [\"MAE\", \"RMSE\"], cv = 5, verbose = True)\n",
        "\n",
        "# Train the item-based model on the entire dataset\n",
        "knn_item_model.fit(trainset)"
      ],
      "metadata": {
        "id": "99ebnjyPp3Sd",
        "colab": {
          "base_uri": "https://localhost:8080/"
        },
        "outputId": "8fbc7c75-08b4-4a38-df9d-f55f6583573e"
      },
      "execution_count": 8,
      "outputs": [
        {
          "output_type": "stream",
          "name": "stdout",
          "text": [
            "Computing the msd similarity matrix...\n",
            "Done computing similarity matrix.\n",
            "Computing the msd similarity matrix...\n",
            "Done computing similarity matrix.\n",
            "Computing the msd similarity matrix...\n",
            "Done computing similarity matrix.\n",
            "Computing the msd similarity matrix...\n",
            "Done computing similarity matrix.\n",
            "Computing the msd similarity matrix...\n",
            "Done computing similarity matrix.\n",
            "Evaluating MAE, RMSE of algorithm KNNBasic on 5 split(s).\n",
            "\n",
            "                  Fold 1  Fold 2  Fold 3  Fold 4  Fold 5  Mean    Std     \n",
            "MAE (testset)     0.7211  0.7219  0.7202  0.7255  0.7173  0.7212  0.0027  \n",
            "RMSE (testset)    0.9341  0.9365  0.9353  0.9419  0.9293  0.9354  0.0041  \n",
            "Fit time          6.30    13.46   7.35    6.46    4.55    7.63    3.06    \n",
            "Test time         6.81    7.05    7.51    8.29    7.50    7.43    0.50    \n",
            "Computing the msd similarity matrix...\n",
            "Done computing similarity matrix.\n"
          ]
        },
        {
          "output_type": "execute_result",
          "data": {
            "text/plain": [
              "<surprise.prediction_algorithms.knns.KNNBasic at 0x7a40d4ac7b50>"
            ]
          },
          "metadata": {},
          "execution_count": 8
        }
      ]
    },
    {
      "cell_type": "markdown",
      "source": [
        "#### d) Compare the average (mean) performances of User-based collaborative filtering, item-based collaborative filtering, PMF with respect to RMSE and MAE. Which ML model is the best in the movie rating data?"
      ],
      "metadata": {
        "id": "1RJL7sLDQOUs"
      }
    },
    {
      "cell_type": "code",
      "source": [
        "df_mae_rmse = pd.DataFrame({\n",
        "    \"Model\": [\"Probabilistic Matrix Factorization (PMF)\", \"User-based Collaborative Filtering\", \"Item-based Collaborative Filtering\"],\n",
        "    \"Average_MAE\": [sum(pmf_results['test_mae']) / 5, sum(user_results['test_mae']) / 5, sum(item_results['test_mae']) / 5],\n",
        "    \"Average_RMSE\": [sum(pmf_results['test_rmse']) / 5, sum(user_results['test_rmse']) / 5, sum(item_results['test_rmse']) / 5]\n",
        "})\n",
        "df_mae_rmse"
      ],
      "metadata": {
        "id": "bDsIUEItp3V7",
        "colab": {
          "base_uri": "https://localhost:8080/",
          "height": 143
        },
        "outputId": "958f7b68-3d50-4698-aa27-2474b3395369"
      },
      "execution_count": 9,
      "outputs": [
        {
          "output_type": "execute_result",
          "data": {
            "text/plain": [
              "                                      Model  Average_MAE  Average_RMSE\n",
              "0  Probabilistic Matrix Factorization (PMF)     0.689336      0.895424\n",
              "1        User-based Collaborative Filtering     0.743733      0.966954\n",
              "2        Item-based Collaborative Filtering     0.721213      0.935395"
            ],
            "text/html": [
              "\n",
              "  <div id=\"df-c7b8635e-0387-4f46-9797-e8387d33161b\" class=\"colab-df-container\">\n",
              "    <div>\n",
              "<style scoped>\n",
              "    .dataframe tbody tr th:only-of-type {\n",
              "        vertical-align: middle;\n",
              "    }\n",
              "\n",
              "    .dataframe tbody tr th {\n",
              "        vertical-align: top;\n",
              "    }\n",
              "\n",
              "    .dataframe thead th {\n",
              "        text-align: right;\n",
              "    }\n",
              "</style>\n",
              "<table border=\"1\" class=\"dataframe\">\n",
              "  <thead>\n",
              "    <tr style=\"text-align: right;\">\n",
              "      <th></th>\n",
              "      <th>Model</th>\n",
              "      <th>Average_MAE</th>\n",
              "      <th>Average_RMSE</th>\n",
              "    </tr>\n",
              "  </thead>\n",
              "  <tbody>\n",
              "    <tr>\n",
              "      <th>0</th>\n",
              "      <td>Probabilistic Matrix Factorization (PMF)</td>\n",
              "      <td>0.689336</td>\n",
              "      <td>0.895424</td>\n",
              "    </tr>\n",
              "    <tr>\n",
              "      <th>1</th>\n",
              "      <td>User-based Collaborative Filtering</td>\n",
              "      <td>0.743733</td>\n",
              "      <td>0.966954</td>\n",
              "    </tr>\n",
              "    <tr>\n",
              "      <th>2</th>\n",
              "      <td>Item-based Collaborative Filtering</td>\n",
              "      <td>0.721213</td>\n",
              "      <td>0.935395</td>\n",
              "    </tr>\n",
              "  </tbody>\n",
              "</table>\n",
              "</div>\n",
              "    <div class=\"colab-df-buttons\">\n",
              "\n",
              "  <div class=\"colab-df-container\">\n",
              "    <button class=\"colab-df-convert\" onclick=\"convertToInteractive('df-c7b8635e-0387-4f46-9797-e8387d33161b')\"\n",
              "            title=\"Convert this dataframe to an interactive table.\"\n",
              "            style=\"display:none;\">\n",
              "\n",
              "  <svg xmlns=\"http://www.w3.org/2000/svg\" height=\"24px\" viewBox=\"0 -960 960 960\">\n",
              "    <path d=\"M120-120v-720h720v720H120Zm60-500h600v-160H180v160Zm220 220h160v-160H400v160Zm0 220h160v-160H400v160ZM180-400h160v-160H180v160Zm440 0h160v-160H620v160ZM180-180h160v-160H180v160Zm440 0h160v-160H620v160Z\"/>\n",
              "  </svg>\n",
              "    </button>\n",
              "\n",
              "  <style>\n",
              "    .colab-df-container {\n",
              "      display:flex;\n",
              "      gap: 12px;\n",
              "    }\n",
              "\n",
              "    .colab-df-convert {\n",
              "      background-color: #E8F0FE;\n",
              "      border: none;\n",
              "      border-radius: 50%;\n",
              "      cursor: pointer;\n",
              "      display: none;\n",
              "      fill: #1967D2;\n",
              "      height: 32px;\n",
              "      padding: 0 0 0 0;\n",
              "      width: 32px;\n",
              "    }\n",
              "\n",
              "    .colab-df-convert:hover {\n",
              "      background-color: #E2EBFA;\n",
              "      box-shadow: 0px 1px 2px rgba(60, 64, 67, 0.3), 0px 1px 3px 1px rgba(60, 64, 67, 0.15);\n",
              "      fill: #174EA6;\n",
              "    }\n",
              "\n",
              "    .colab-df-buttons div {\n",
              "      margin-bottom: 4px;\n",
              "    }\n",
              "\n",
              "    [theme=dark] .colab-df-convert {\n",
              "      background-color: #3B4455;\n",
              "      fill: #D2E3FC;\n",
              "    }\n",
              "\n",
              "    [theme=dark] .colab-df-convert:hover {\n",
              "      background-color: #434B5C;\n",
              "      box-shadow: 0px 1px 3px 1px rgba(0, 0, 0, 0.15);\n",
              "      filter: drop-shadow(0px 1px 2px rgba(0, 0, 0, 0.3));\n",
              "      fill: #FFFFFF;\n",
              "    }\n",
              "  </style>\n",
              "\n",
              "    <script>\n",
              "      const buttonEl =\n",
              "        document.querySelector('#df-c7b8635e-0387-4f46-9797-e8387d33161b button.colab-df-convert');\n",
              "      buttonEl.style.display =\n",
              "        google.colab.kernel.accessAllowed ? 'block' : 'none';\n",
              "\n",
              "      async function convertToInteractive(key) {\n",
              "        const element = document.querySelector('#df-c7b8635e-0387-4f46-9797-e8387d33161b');\n",
              "        const dataTable =\n",
              "          await google.colab.kernel.invokeFunction('convertToInteractive',\n",
              "                                                    [key], {});\n",
              "        if (!dataTable) return;\n",
              "\n",
              "        const docLinkHtml = 'Like what you see? Visit the ' +\n",
              "          '<a target=\"_blank\" href=https://colab.research.google.com/notebooks/data_table.ipynb>data table notebook</a>'\n",
              "          + ' to learn more about interactive tables.';\n",
              "        element.innerHTML = '';\n",
              "        dataTable['output_type'] = 'display_data';\n",
              "        await google.colab.output.renderOutput(dataTable, element);\n",
              "        const docLink = document.createElement('div');\n",
              "        docLink.innerHTML = docLinkHtml;\n",
              "        element.appendChild(docLink);\n",
              "      }\n",
              "    </script>\n",
              "  </div>\n",
              "\n",
              "\n",
              "<div id=\"df-678714d8-250e-4432-9110-45d4d6ab7273\">\n",
              "  <button class=\"colab-df-quickchart\" onclick=\"quickchart('df-678714d8-250e-4432-9110-45d4d6ab7273')\"\n",
              "            title=\"Suggest charts\"\n",
              "            style=\"display:none;\">\n",
              "\n",
              "<svg xmlns=\"http://www.w3.org/2000/svg\" height=\"24px\"viewBox=\"0 0 24 24\"\n",
              "     width=\"24px\">\n",
              "    <g>\n",
              "        <path d=\"M19 3H5c-1.1 0-2 .9-2 2v14c0 1.1.9 2 2 2h14c1.1 0 2-.9 2-2V5c0-1.1-.9-2-2-2zM9 17H7v-7h2v7zm4 0h-2V7h2v10zm4 0h-2v-4h2v4z\"/>\n",
              "    </g>\n",
              "</svg>\n",
              "  </button>\n",
              "\n",
              "<style>\n",
              "  .colab-df-quickchart {\n",
              "      --bg-color: #E8F0FE;\n",
              "      --fill-color: #1967D2;\n",
              "      --hover-bg-color: #E2EBFA;\n",
              "      --hover-fill-color: #174EA6;\n",
              "      --disabled-fill-color: #AAA;\n",
              "      --disabled-bg-color: #DDD;\n",
              "  }\n",
              "\n",
              "  [theme=dark] .colab-df-quickchart {\n",
              "      --bg-color: #3B4455;\n",
              "      --fill-color: #D2E3FC;\n",
              "      --hover-bg-color: #434B5C;\n",
              "      --hover-fill-color: #FFFFFF;\n",
              "      --disabled-bg-color: #3B4455;\n",
              "      --disabled-fill-color: #666;\n",
              "  }\n",
              "\n",
              "  .colab-df-quickchart {\n",
              "    background-color: var(--bg-color);\n",
              "    border: none;\n",
              "    border-radius: 50%;\n",
              "    cursor: pointer;\n",
              "    display: none;\n",
              "    fill: var(--fill-color);\n",
              "    height: 32px;\n",
              "    padding: 0;\n",
              "    width: 32px;\n",
              "  }\n",
              "\n",
              "  .colab-df-quickchart:hover {\n",
              "    background-color: var(--hover-bg-color);\n",
              "    box-shadow: 0 1px 2px rgba(60, 64, 67, 0.3), 0 1px 3px 1px rgba(60, 64, 67, 0.15);\n",
              "    fill: var(--button-hover-fill-color);\n",
              "  }\n",
              "\n",
              "  .colab-df-quickchart-complete:disabled,\n",
              "  .colab-df-quickchart-complete:disabled:hover {\n",
              "    background-color: var(--disabled-bg-color);\n",
              "    fill: var(--disabled-fill-color);\n",
              "    box-shadow: none;\n",
              "  }\n",
              "\n",
              "  .colab-df-spinner {\n",
              "    border: 2px solid var(--fill-color);\n",
              "    border-color: transparent;\n",
              "    border-bottom-color: var(--fill-color);\n",
              "    animation:\n",
              "      spin 1s steps(1) infinite;\n",
              "  }\n",
              "\n",
              "  @keyframes spin {\n",
              "    0% {\n",
              "      border-color: transparent;\n",
              "      border-bottom-color: var(--fill-color);\n",
              "      border-left-color: var(--fill-color);\n",
              "    }\n",
              "    20% {\n",
              "      border-color: transparent;\n",
              "      border-left-color: var(--fill-color);\n",
              "      border-top-color: var(--fill-color);\n",
              "    }\n",
              "    30% {\n",
              "      border-color: transparent;\n",
              "      border-left-color: var(--fill-color);\n",
              "      border-top-color: var(--fill-color);\n",
              "      border-right-color: var(--fill-color);\n",
              "    }\n",
              "    40% {\n",
              "      border-color: transparent;\n",
              "      border-right-color: var(--fill-color);\n",
              "      border-top-color: var(--fill-color);\n",
              "    }\n",
              "    60% {\n",
              "      border-color: transparent;\n",
              "      border-right-color: var(--fill-color);\n",
              "    }\n",
              "    80% {\n",
              "      border-color: transparent;\n",
              "      border-right-color: var(--fill-color);\n",
              "      border-bottom-color: var(--fill-color);\n",
              "    }\n",
              "    90% {\n",
              "      border-color: transparent;\n",
              "      border-bottom-color: var(--fill-color);\n",
              "    }\n",
              "  }\n",
              "</style>\n",
              "\n",
              "  <script>\n",
              "    async function quickchart(key) {\n",
              "      const quickchartButtonEl =\n",
              "        document.querySelector('#' + key + ' button');\n",
              "      quickchartButtonEl.disabled = true;  // To prevent multiple clicks.\n",
              "      quickchartButtonEl.classList.add('colab-df-spinner');\n",
              "      try {\n",
              "        const charts = await google.colab.kernel.invokeFunction(\n",
              "            'suggestCharts', [key], {});\n",
              "      } catch (error) {\n",
              "        console.error('Error during call to suggestCharts:', error);\n",
              "      }\n",
              "      quickchartButtonEl.classList.remove('colab-df-spinner');\n",
              "      quickchartButtonEl.classList.add('colab-df-quickchart-complete');\n",
              "    }\n",
              "    (() => {\n",
              "      let quickchartButtonEl =\n",
              "        document.querySelector('#df-678714d8-250e-4432-9110-45d4d6ab7273 button');\n",
              "      quickchartButtonEl.style.display =\n",
              "        google.colab.kernel.accessAllowed ? 'block' : 'none';\n",
              "    })();\n",
              "  </script>\n",
              "</div>\n",
              "\n",
              "  <div id=\"id_dc639f74-8da5-4fbe-8a17-24a8f291396d\">\n",
              "    <style>\n",
              "      .colab-df-generate {\n",
              "        background-color: #E8F0FE;\n",
              "        border: none;\n",
              "        border-radius: 50%;\n",
              "        cursor: pointer;\n",
              "        display: none;\n",
              "        fill: #1967D2;\n",
              "        height: 32px;\n",
              "        padding: 0 0 0 0;\n",
              "        width: 32px;\n",
              "      }\n",
              "\n",
              "      .colab-df-generate:hover {\n",
              "        background-color: #E2EBFA;\n",
              "        box-shadow: 0px 1px 2px rgba(60, 64, 67, 0.3), 0px 1px 3px 1px rgba(60, 64, 67, 0.15);\n",
              "        fill: #174EA6;\n",
              "      }\n",
              "\n",
              "      [theme=dark] .colab-df-generate {\n",
              "        background-color: #3B4455;\n",
              "        fill: #D2E3FC;\n",
              "      }\n",
              "\n",
              "      [theme=dark] .colab-df-generate:hover {\n",
              "        background-color: #434B5C;\n",
              "        box-shadow: 0px 1px 3px 1px rgba(0, 0, 0, 0.15);\n",
              "        filter: drop-shadow(0px 1px 2px rgba(0, 0, 0, 0.3));\n",
              "        fill: #FFFFFF;\n",
              "      }\n",
              "    </style>\n",
              "    <button class=\"colab-df-generate\" onclick=\"generateWithVariable('df_mae_rmse')\"\n",
              "            title=\"Generate code using this dataframe.\"\n",
              "            style=\"display:none;\">\n",
              "\n",
              "  <svg xmlns=\"http://www.w3.org/2000/svg\" height=\"24px\"viewBox=\"0 0 24 24\"\n",
              "       width=\"24px\">\n",
              "    <path d=\"M7,19H8.4L18.45,9,17,7.55,7,17.6ZM5,21V16.75L18.45,3.32a2,2,0,0,1,2.83,0l1.4,1.43a1.91,1.91,0,0,1,.58,1.4,1.91,1.91,0,0,1-.58,1.4L9.25,21ZM18.45,9,17,7.55Zm-12,3A5.31,5.31,0,0,0,4.9,8.1,5.31,5.31,0,0,0,1,6.5,5.31,5.31,0,0,0,4.9,4.9,5.31,5.31,0,0,0,6.5,1,5.31,5.31,0,0,0,8.1,4.9,5.31,5.31,0,0,0,12,6.5,5.46,5.46,0,0,0,6.5,12Z\"/>\n",
              "  </svg>\n",
              "    </button>\n",
              "    <script>\n",
              "      (() => {\n",
              "      const buttonEl =\n",
              "        document.querySelector('#id_dc639f74-8da5-4fbe-8a17-24a8f291396d button.colab-df-generate');\n",
              "      buttonEl.style.display =\n",
              "        google.colab.kernel.accessAllowed ? 'block' : 'none';\n",
              "\n",
              "      buttonEl.onclick = () => {\n",
              "        google.colab.notebook.generateWithVariable('df_mae_rmse');\n",
              "      }\n",
              "      })();\n",
              "    </script>\n",
              "  </div>\n",
              "\n",
              "    </div>\n",
              "  </div>\n"
            ],
            "application/vnd.google.colaboratory.intrinsic+json": {
              "type": "dataframe",
              "variable_name": "df_mae_rmse",
              "summary": "{\n  \"name\": \"df_mae_rmse\",\n  \"rows\": 3,\n  \"fields\": [\n    {\n      \"column\": \"Model\",\n      \"properties\": {\n        \"dtype\": \"string\",\n        \"num_unique_values\": 3,\n        \"samples\": [\n          \"Probabilistic Matrix Factorization (PMF)\",\n          \"User-based Collaborative Filtering\",\n          \"Item-based Collaborative Filtering\"\n        ],\n        \"semantic_type\": \"\",\n        \"description\": \"\"\n      }\n    },\n    {\n      \"column\": \"Average_MAE\",\n      \"properties\": {\n        \"dtype\": \"number\",\n        \"std\": 0.02733224785204067,\n        \"min\": 0.6893364758606657,\n        \"max\": 0.7437333856997129,\n        \"num_unique_values\": 3,\n        \"samples\": [\n          0.6893364758606657,\n          0.7437333856997129,\n          0.721213335199227\n        ],\n        \"semantic_type\": \"\",\n        \"description\": \"\"\n      }\n    },\n    {\n      \"column\": \"Average_RMSE\",\n      \"properties\": {\n        \"dtype\": \"number\",\n        \"std\": 0.035847425268644054,\n        \"min\": 0.8954237028810257,\n        \"max\": 0.9669538471686521,\n        \"num_unique_values\": 3,\n        \"samples\": [\n          0.8954237028810257,\n          0.9669538471686521,\n          0.9353950249956053\n        ],\n        \"semantic_type\": \"\",\n        \"description\": \"\"\n      }\n    }\n  ]\n}"
            }
          },
          "metadata": {},
          "execution_count": 9
        }
      ]
    },
    {
      "cell_type": "markdown",
      "source": [
        "#### e) Examine how the cosine, MSD (Mean Squared Difference), and Pearson similarities impact the performances of User based Collaborative Filtering and Item based Collaborative Filtering. Plot your results. Is the impact of the three metrics on User based Collaborative Filtering consistent with the impact of the three metrics on Item based Collaborative Filtering?"
      ],
      "metadata": {
        "id": "yIShuqgTQXgn"
      }
    },
    {
      "cell_type": "markdown",
      "source": [
        "##### User based Collaborative Filtering"
      ],
      "metadata": {
        "id": "jytnvZF3QbAx"
      }
    },
    {
      "cell_type": "code",
      "source": [
        "# Cosine similarity\n",
        "algo_UBCF_cosine = KNNBasic(sim_options = {\"name\": \"cosine\", \"user_based\": True})\n",
        "CV_UBCF_cosine = cross_validate(algo_UBCF_cosine, data, measures = [\"MAE\", \"RMSE\"], cv = 5, verbose = True)\n",
        "\n",
        "# MSD (Mean Squared Difference) similarity\n",
        "algo_UBCF_msd = KNNBasic(sim_options = {\"name\": \"msd\", \"user_based\": True})\n",
        "CV_UBCF_msd = cross_validate(algo_UBCF_msd, data, measures = [\"MAE\", \"RMSE\"], cv = 5, verbose = True)\n",
        "\n",
        "# Pearsom similarity\n",
        "algo_UBCF_pearson = KNNBasic(sim_options = {\"name\": \"pearson\", \"user_based\": True})\n",
        "CV_UBCF_pearson = cross_validate(algo_UBCF_pearson, data, measures = [\"MAE\", \"RMSE\"], cv = 5, verbose = True)"
      ],
      "metadata": {
        "colab": {
          "base_uri": "https://localhost:8080/"
        },
        "id": "6hYrawwzQUER",
        "outputId": "a1d465f9-104a-43e4-9b55-48fc71110187"
      },
      "execution_count": 10,
      "outputs": [
        {
          "output_type": "stream",
          "name": "stdout",
          "text": [
            "Computing the cosine similarity matrix...\n",
            "Done computing similarity matrix.\n",
            "Computing the cosine similarity matrix...\n",
            "Done computing similarity matrix.\n",
            "Computing the cosine similarity matrix...\n",
            "Done computing similarity matrix.\n",
            "Computing the cosine similarity matrix...\n",
            "Done computing similarity matrix.\n",
            "Computing the cosine similarity matrix...\n",
            "Done computing similarity matrix.\n",
            "Evaluating MAE, RMSE of algorithm KNNBasic on 5 split(s).\n",
            "\n",
            "                  Fold 1  Fold 2  Fold 3  Fold 4  Fold 5  Mean    Std     \n",
            "MAE (testset)     0.7702  0.7671  0.7675  0.7713  0.7630  0.7678  0.0029  \n",
            "RMSE (testset)    0.9955  0.9919  0.9923  0.9965  0.9902  0.9933  0.0023  \n",
            "Fit time          0.21    0.40    0.25    0.25    0.25    0.27    0.07    \n",
            "Test time         3.08    1.59    1.48    1.58    1.47    1.84    0.62    \n",
            "Computing the msd similarity matrix...\n",
            "Done computing similarity matrix.\n",
            "Computing the msd similarity matrix...\n",
            "Done computing similarity matrix.\n",
            "Computing the msd similarity matrix...\n",
            "Done computing similarity matrix.\n",
            "Computing the msd similarity matrix...\n",
            "Done computing similarity matrix.\n",
            "Computing the msd similarity matrix...\n",
            "Done computing similarity matrix.\n",
            "Evaluating MAE, RMSE of algorithm KNNBasic on 5 split(s).\n",
            "\n",
            "                  Fold 1  Fold 2  Fold 3  Fold 4  Fold 5  Mean    Std     \n",
            "MAE (testset)     0.7456  0.7504  0.7478  0.7409  0.7408  0.7451  0.0038  \n",
            "RMSE (testset)    0.9680  0.9797  0.9714  0.9616  0.9638  0.9689  0.0064  \n",
            "Fit time          0.12    0.20    0.24    0.19    0.17    0.18    0.04    \n",
            "Test time         1.66    2.74    2.50    1.47    1.45    1.96    0.55    \n",
            "Computing the pearson similarity matrix...\n",
            "Done computing similarity matrix.\n",
            "Computing the pearson similarity matrix...\n",
            "Done computing similarity matrix.\n",
            "Computing the pearson similarity matrix...\n",
            "Done computing similarity matrix.\n",
            "Computing the pearson similarity matrix...\n",
            "Done computing similarity matrix.\n",
            "Computing the pearson similarity matrix...\n",
            "Done computing similarity matrix.\n",
            "Evaluating MAE, RMSE of algorithm KNNBasic on 5 split(s).\n",
            "\n",
            "                  Fold 1  Fold 2  Fold 3  Fold 4  Fold 5  Mean    Std     \n",
            "MAE (testset)     0.7765  0.7741  0.7731  0.7722  0.7672  0.7726  0.0031  \n",
            "RMSE (testset)    1.0054  1.0030  1.0019  0.9948  0.9894  0.9989  0.0059  \n",
            "Fit time          0.28    0.31    0.50    0.32    0.31    0.34    0.08    \n",
            "Test time         1.45    2.16    2.35    1.51    1.61    1.82    0.37    \n"
          ]
        }
      ]
    },
    {
      "cell_type": "markdown",
      "source": [
        "##### Item based Collaborative Filtering"
      ],
      "metadata": {
        "id": "DheRRVd4QmHW"
      }
    },
    {
      "cell_type": "code",
      "source": [
        "# Cosine similarity\n",
        "algo_IBCF_cosine = KNNBasic(sim_options = {\"name\": \"cosine\", \"user_based\": False})\n",
        "CV_IBCF_cosine = cross_validate(algo_IBCF_cosine, data, measures = [\"MAE\", \"RMSE\"], cv = 5, verbose = True)\n",
        "\n",
        "# MSD (Mean Squared Difference) similarity\n",
        "algo_IBCF_msd = KNNBasic(sim_options = {\"name\": \"msd\", \"user_based\": False})\n",
        "CV_IBCF_msd = cross_validate(algo_IBCF_msd, data, measures = [\"MAE\", \"RMSE\"], cv = 5, verbose = True)\n",
        "\n",
        "# Pearsom similarity\n",
        "algo_IBCF_pearson = KNNBasic(sim_options = {\"name\": \"pearson\", \"user_based\": False})\n",
        "CV_IBCF_pearson = cross_validate(algo_IBCF_pearson, data, measures = [\"MAE\", \"RMSE\"], cv = 5, verbose = True)"
      ],
      "metadata": {
        "colab": {
          "base_uri": "https://localhost:8080/"
        },
        "id": "GkkN3oQEQnSD",
        "outputId": "1ead6785-c137-4e8c-b480-5cdf09c34287"
      },
      "execution_count": 11,
      "outputs": [
        {
          "output_type": "stream",
          "name": "stdout",
          "text": [
            "Computing the cosine similarity matrix...\n",
            "Done computing similarity matrix.\n",
            "Computing the cosine similarity matrix...\n",
            "Done computing similarity matrix.\n",
            "Computing the cosine similarity matrix...\n",
            "Done computing similarity matrix.\n",
            "Computing the cosine similarity matrix...\n",
            "Done computing similarity matrix.\n",
            "Computing the cosine similarity matrix...\n",
            "Done computing similarity matrix.\n",
            "Evaluating MAE, RMSE of algorithm KNNBasic on 5 split(s).\n",
            "\n",
            "                  Fold 1  Fold 2  Fold 3  Fold 4  Fold 5  Mean    Std     \n",
            "MAE (testset)     0.7723  0.7857  0.7747  0.7737  0.7745  0.7762  0.0048  \n",
            "RMSE (testset)    0.9920  1.0108  0.9931  0.9960  0.9921  0.9968  0.0072  \n",
            "Fit time          8.39    7.95    9.13    8.38    6.92    8.15    0.72    \n",
            "Test time         6.70    20.25   8.89    9.44    9.59    10.97   4.75    \n",
            "Computing the msd similarity matrix...\n",
            "Done computing similarity matrix.\n",
            "Computing the msd similarity matrix...\n",
            "Done computing similarity matrix.\n",
            "Computing the msd similarity matrix...\n",
            "Done computing similarity matrix.\n",
            "Computing the msd similarity matrix...\n",
            "Done computing similarity matrix.\n",
            "Computing the msd similarity matrix...\n",
            "Done computing similarity matrix.\n",
            "Evaluating MAE, RMSE of algorithm KNNBasic on 5 split(s).\n",
            "\n",
            "                  Fold 1  Fold 2  Fold 3  Fold 4  Fold 5  Mean    Std     \n",
            "MAE (testset)     0.7158  0.7290  0.7165  0.7247  0.7200  0.7212  0.0050  \n",
            "RMSE (testset)    0.9260  0.9418  0.9307  0.9441  0.9312  0.9347  0.0070  \n",
            "Fit time          4.64    5.09    4.82    5.29    4.90    4.95    0.22    \n",
            "Test time         9.14    10.97   7.43    8.33    9.88    9.15    1.22    \n",
            "Computing the pearson similarity matrix...\n",
            "Done computing similarity matrix.\n",
            "Computing the pearson similarity matrix...\n",
            "Done computing similarity matrix.\n",
            "Computing the pearson similarity matrix...\n",
            "Done computing similarity matrix.\n",
            "Computing the pearson similarity matrix...\n",
            "Done computing similarity matrix.\n",
            "Computing the pearson similarity matrix...\n",
            "Done computing similarity matrix.\n",
            "Evaluating MAE, RMSE of algorithm KNNBasic on 5 split(s).\n",
            "\n",
            "                  Fold 1  Fold 2  Fold 3  Fold 4  Fold 5  Mean    Std     \n",
            "MAE (testset)     0.7719  0.7652  0.7638  0.7758  0.7626  0.7678  0.0051  \n",
            "RMSE (testset)    0.9955  0.9870  0.9797  0.9988  0.9837  0.9890  0.0072  \n",
            "Fit time          12.12   10.44   11.31   9.07    8.78    10.34   1.28    \n",
            "Test time         9.98    8.75    12.25   7.04    8.29    9.26    1.76    \n"
          ]
        }
      ]
    },
    {
      "cell_type": "markdown",
      "source": [
        "##### RMSE and MAE plot - User Based Collaborative Filtering and Item Based Collaborative Filtering"
      ],
      "metadata": {
        "id": "3wBIcf3RQnhX"
      }
    },
    {
      "cell_type": "code",
      "source": [
        "mae = [CV_UBCF_cosine[\"test_mae\"].mean(), CV_UBCF_msd[\"test_mae\"].mean(), CV_UBCF_pearson[\"test_mae\"].mean()]\n",
        "rmse = [CV_UBCF_cosine[\"test_rmse\"].mean(), CV_UBCF_msd[\"test_rmse\"].mean(), CV_UBCF_pearson[\"test_rmse\"].mean()]\n",
        "\n",
        "plt.title(\"User Based Collaborative Filtering: Cosine, MSD, Pearson\")\n",
        "plt.plot(mae, label = \"MAE\")\n",
        "plt.plot(rmse, label = \"RMSE\")\n",
        "plt.legend()\n",
        "plt.show()"
      ],
      "metadata": {
        "colab": {
          "base_uri": "https://localhost:8080/",
          "height": 452
        },
        "id": "_clkienPQntD",
        "outputId": "620b144f-e2a3-459d-c54e-6dba6a192b1b"
      },
      "execution_count": 12,
      "outputs": [
        {
          "output_type": "display_data",
          "data": {
            "text/plain": [
              "<Figure size 640x480 with 1 Axes>"
            ],
            "image/png": "[encoded data removed]"
          },
          "metadata": {}
        }
      ]
    },
    {
      "cell_type": "code",
      "source": [
        "mae = [CV_IBCF_cosine[\"test_mae\"].mean(), CV_IBCF_msd[\"test_mae\"].mean(), CV_IBCF_pearson[\"test_mae\"].mean()]\n",
        "rmse = [CV_IBCF_cosine[\"test_rmse\"].mean(), CV_IBCF_msd[\"test_rmse\"].mean(), CV_IBCF_pearson[\"test_rmse\"].mean()]\n",
        "\n",
        "plt.title(\"Item Based Collaborative Filtering: Cosine, MSD, Pearson\")\n",
        "plt.plot(mae, label = \"MAE\")\n",
        "plt.plot(rmse, label = \"RMSE\")\n",
        "plt.legend()\n",
        "plt.show()"
      ],
      "metadata": {
        "colab": {
          "base_uri": "https://localhost:8080/",
          "height": 452
        },
        "id": "A34dLxMeQ0w-",
        "outputId": "0c8af9a0-7f7c-49df-8093-abd7af552011"
      },
      "execution_count": 13,
      "outputs": [
        {
          "output_type": "display_data",
          "data": {
            "text/plain": [
              "<Figure size 640x480 with 1 Axes>"
            ],
            "image/png": "[encoded data removed]"
          },
          "metadata": {}
        }
      ]
    },
    {
      "cell_type": "markdown",
      "source": [
        "#### f) Examine how the number of neighbors impacts the performances of User based Collaborative Filtering and Item based Collaborative Filtering? Plot your results."
      ],
      "metadata": {
        "id": "xnCwyqJtQ33l"
      }
    },
    {
      "cell_type": "markdown",
      "source": [
        "##### User based Collaborative Filtering"
      ],
      "metadata": {
        "id": "SMj8tWVuQ37C"
      }
    },
    {
      "cell_type": "code",
      "source": [
        "user_mae, user_rmse = [], []\n",
        "\n",
        "for i in range(1, 51):\n",
        "    algo = KNNBasic(k = i, sim_options = {\"user_based\": True}, verbose = False)\n",
        "    CV_user = cross_validate(algo, data, measures = [\"MAE\", \"RMSE\"], cv = 5, verbose = False)\n",
        "    user_rmse.append(CV_user[\"test_rmse\"].mean())\n",
        "    user_mae.append(CV_user[\"test_mae\"].mean())\n",
        "\n",
        "plt.plot(user_mae, label = \"MAE\")\n",
        "plt.plot(user_rmse, label = \"RMSE\")\n",
        "plt.legend()\n",
        "plt.show()"
      ],
      "metadata": {
        "colab": {
          "base_uri": "https://localhost:8080/",
          "height": 430
        },
        "id": "yn05u6A1Q8Sj",
        "outputId": "ae506b04-4f2a-49ab-ff1e-b0e00609244e"
      },
      "execution_count": 14,
      "outputs": [
        {
          "output_type": "display_data",
          "data": {
            "text/plain": [
              "<Figure size 640x480 with 1 Axes>"
            ],
            "image/png": "[encoded data removed]"
          },
          "metadata": {}
        }
      ]
    },
    {
      "cell_type": "markdown",
      "source": [
        "##### Item based Collaborative Filtering"
      ],
      "metadata": {
        "id": "5MNj8gGLRB0I"
      }
    },
    {
      "cell_type": "code",
      "source": [
        "item_mae, item_rmse = [], []\n",
        "\n",
        "for i in range(1, 51):\n",
        "    algo = KNNBasic(k = i, sim_options = {\"user_based\": False}, verbose = False)\n",
        "    CV_item = cross_validate(algo, data, measures = [\"MAE\", \"RMSE\"], cv = 5, verbose = False)\n",
        "    item_rmse.append(CV_item[\"test_rmse\"].mean())\n",
        "    item_mae.append(CV_item[\"test_mae\"].mean())\n",
        "\n",
        "plt.plot(item_mae, label = \"MAE\")\n",
        "plt.plot(item_rmse, label = \"RMSE\")\n",
        "plt.legend()\n",
        "plt.show()"
      ],
      "metadata": {
        "colab": {
          "base_uri": "https://localhost:8080/",
          "height": 430
        },
        "id": "q0zyoZV1RB_R",
        "outputId": "a84dfba6-10fb-457d-c597-a83040bf56ca"
      },
      "execution_count": 15,
      "outputs": [
        {
          "output_type": "display_data",
          "data": {
            "text/plain": [
              "<Figure size 640x480 with 1 Axes>"
            ],
            "image/png": "[encoded data removed]"
          },
          "metadata": {}
        }
      ]
    },
    {
      "cell_type": "markdown",
      "source": [
        "#### g) Identify the best number of neighbor (denoted by K) for User/Item based collaborative filtering in terms of RMSE. Is the best K of User based collaborative filtering the same with the best K of Item based collaborative filtering?"
      ],
      "metadata": {
        "id": "p0gv5aINRI6E"
      }
    },
    {
      "cell_type": "code",
      "source": [
        "print(\"Best k for User based Collaborative Filtering: \", user_rmse.index(min(user_rmse)) + 1)\n",
        "print(\"Best k for Item based Collaborative Filtering: \", item_rmse.index(min(item_rmse)) + 1)"
      ],
      "metadata": {
        "colab": {
          "base_uri": "https://localhost:8080/"
        },
        "id": "IqzCmq9DRNzg",
        "outputId": "8fab9765-3597-45b5-85cc-d7029214d3cd"
      },
      "execution_count": 17,
      "outputs": [
        {
          "output_type": "stream",
          "name": "stdout",
          "text": [
            "Best k for User based Collaborative Filtering:  21\n",
            "Best k for Item based Collaborative Filtering:  50\n"
          ]
        }
      ]
    }
  ]
}